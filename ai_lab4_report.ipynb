{
 "cells": [
  {
   "cell_type": "markdown",
   "metadata": {},
   "source": [
    "# Искуственный интеллект\n",
    "## лабораторная работа №4\n",
    "#### вариант 20:  Определить зависимость счастья пользователя от пола, возраста и количества друзей. Уровень счастья мерить как среднее значение эмоции счастья для всех лиц на последних 100 фотографиях в ленте/альбомах. Аккаунты для анализа взяты у друга, у которого более 100 друзей.\n",
    "### __спойлер__ (забыл указать в выводе в отчёте по работе): наивный алгоритм обучения на маленькой обучающей выборке с небольшим количеством признаков не даёт хорошего качества."
   ]
  },
  {
   "cell_type": "code",
   "execution_count": 1,
   "metadata": {
    "collapsed": true
   },
   "outputs": [],
   "source": [
    "from azureml import Workspace\n",
    "ws = Workspace()\n",
    "experiment = ws.experiments['626122c45eeb4b5a86fa9e4a2045df05.f-id.7922654217874427aad1bf54fe4c9216']"
   ]
  },
  {
   "cell_type": "markdown",
   "metadata": {},
   "source": [
    "### обучающая выборка\n",
    "собрана с помощью [скрипта](https://github.com/jfxd/aiLab4/blob/master/ailab4publish.py)"
   ]
  },
  {
   "cell_type": "code",
   "execution_count": 2,
   "metadata": {
    "collapsed": false
   },
   "outputs": [],
   "source": [
    "ds1 = ws.datasets['training_set3796212_v2.csv']\n",
    "frame1 = ds1.to_dataframe()"
   ]
  },
  {
   "cell_type": "code",
   "execution_count": null,
   "metadata": {
    "collapsed": false
   },
   "outputs": [
    {
     "data": {
      "text/html": [
       "<div>\n<table border=\"1\" class=\"dataframe\">\n  <thead>\n    <tr style=\"text-align: right;\">\n      <th></th>\n      <th>Uid</th>\n      <th>Happiness</th>\n      <th>Age</th>\n      <th>Sex</th>\n      <th>numOfFriends</th>\n    </tr>\n  </thead>\n  <tbody>\n    <tr>\n      <th>0</th>\n      <td>549</td>\n      <td>0.516667</td>\n      <td>30</td>\n      <td>2</td>\n      <td>263</td>\n    </tr>\n    <tr>\n      <th>1</th>\n      <td>905</td>\n      <td>0.654800</td>\n      <td>36</td>\n      <td>1</td>\n      <td>1195</td>\n    </tr>\n    <tr>\n      <th>2</th>\n      <td>3450</td>\n      <td>0.430500</td>\n      <td>24</td>\n      <td>2</td>\n      <td>321</td>\n    </tr>\n    <tr>\n      <th>3</th>\n      <td>4606</td>\n      <td>0.177750</td>\n      <td>48</td>\n      <td>2</td>\n      <td>445</td>\n    </tr>\n    <tr>\n      <th>4</th>\n      <td>5638</td>\n      <td>0.034833</td>\n      <td>30</td>\n      <td>2</td>\n      <td>1179</td>\n    </tr>\n    <tr>\n      <th>5</th>\n      <td>6589</td>\n      <td>0.082091</td>\n      <td>37</td>\n      <td>2</td>\n      <td>276</td>\n    </tr>\n    <tr>\n      <th>6</th>\n      <td>8704</td>\n      <td>0.500500</td>\n      <td>29</td>\n      <td>2</td>\n      <td>615</td>\n    </tr>\n    <tr>\n      <th>7</th>\n      <td>12873</td>\n      <td>0.406286</td>\n      <td>29</td>\n      <td>2</td>\n      <td>158</td>\n    </tr>\n    <tr>\n      <th>8</th>\n      <td>13223</td>\n      <td>0.684500</td>\n      <td>29</td>\n      <td>1</td>\n      <td>834</td>\n    </tr>\n    <tr>\n      <th>9</th>\n      <td>14492</td>\n      <td>0.459000</td>\n      <td>32</td>\n      <td>2</td>\n      <td>439</td>\n    </tr>\n    <tr>\n      <th>10</th>\n      <td>15395</td>\n      <td>0.095000</td>\n      <td>29</td>\n      <td>2</td>\n      <td>269</td>\n    </tr>\n    <tr>\n      <th>11</th>\n      <td>15416</td>\n      <td>0.108000</td>\n      <td>30</td>\n      <td>2</td>\n      <td>212</td>\n    </tr>\n    <tr>\n      <th>12</th>\n      <td>17005</td>\n      <td>0.462000</td>\n      <td>30</td>\n      <td>2</td>\n      <td>36</td>\n    </tr>\n    <tr>\n      <th>13</th>\n      <td>17787</td>\n      <td>0.438167</td>\n      <td>24</td>\n      <td>2</td>\n      <td>1047</td>\n    </tr>\n    <tr>\n      <th>14</th>\n      <td>18181</td>\n      <td>0.247333</td>\n      <td>30</td>\n      <td>1</td>\n      <td>4366</td>\n    </tr>\n    <tr>\n      <th>15</th>\n      <td>19903</td>\n      <td>0.443167</td>\n      <td>27</td>\n      <td>2</td>\n      <td>333</td>\n    </tr>\n    <tr>\n      <th>16</th>\n      <td>21716</td>\n      <td>0.019500</td>\n      <td>36</td>\n      <td>2</td>\n      <td>1330</td>\n    </tr>\n    <tr>\n      <th>17</th>\n      <td>34261</td>\n      <td>0.501000</td>\n      <td>31</td>\n      <td>2</td>\n      <td>443</td>\n    </tr>\n    <tr>\n      <th>18</th>\n      <td>36330</td>\n      <td>0.335000</td>\n      <td>28</td>\n      <td>2</td>\n      <td>2661</td>\n    </tr>\n    <tr>\n      <th>19</th>\n      <td>44722</td>\n      <td>0.147091</td>\n      <td>37</td>\n      <td>2</td>\n      <td>1036</td>\n    </tr>\n    <tr>\n      <th>20</th>\n      <td>54229</td>\n      <td>0.482857</td>\n      <td>31</td>\n      <td>2</td>\n      <td>600</td>\n    </tr>\n    <tr>\n      <th>21</th>\n      <td>57825</td>\n      <td>0.562625</td>\n      <td>29</td>\n      <td>2</td>\n      <td>769</td>\n    </tr>\n    <tr>\n      <th>22</th>\n      <td>63802</td>\n      <td>0.369875</td>\n      <td>34</td>\n      <td>2</td>\n      <td>238</td>\n    </tr>\n    <tr>\n      <th>23</th>\n      <td>65856</td>\n      <td>0.153000</td>\n      <td>27</td>\n      <td>2</td>\n      <td>416</td>\n    </tr>\n    <tr>\n      <th>24</th>\n      <td>70626</td>\n      <td>0.493200</td>\n      <td>30</td>\n      <td>1</td>\n      <td>263</td>\n    </tr>\n    <tr>\n      <th>25</th>\n      <td>71663</td>\n      <td>0.272250</td>\n      <td>27</td>\n      <td>1</td>\n      <td>392</td>\n    </tr>\n    <tr>\n      <th>26</th>\n      <td>74022</td>\n      <td>0.310818</td>\n      <td>28</td>\n      <td>2</td>\n      <td>338</td>\n    </tr>\n    <tr>\n      <th>27</th>\n      <td>77756</td>\n      <td>0.501333</td>\n      <td>29</td>\n      <td>2</td>\n      <td>534</td>\n    </tr>\n    <tr>\n      <th>28</th>\n      <td>91727</td>\n      <td>0.000000</td>\n      <td>28</td>\n      <td>2</td>\n      <td>435</td>\n    </tr>\n    <tr>\n      <th>29</th>\n      <td>100490</td>\n      <td>0.242800</td>\n      <td>42</td>\n      <td>2</td>\n      <td>456</td>\n    </tr>\n    <tr>\n      <th>...</th>\n      <td>...</td>\n      <td>...</td>\n      <td>...</td>\n      <td>...</td>\n      <td>...</td>\n    </tr>\n    <tr>\n      <th>70</th>\n      <td>514146</td>\n      <td>0.104286</td>\n      <td>28</td>\n      <td>2</td>\n      <td>224</td>\n    </tr>\n    <tr>\n      <th>71</th>\n      <td>523063</td>\n      <td>0.000000</td>\n      <td>34</td>\n      <td>2</td>\n      <td>115</td>\n    </tr>\n    <tr>\n      <th>72</th>\n      <td>534110</td>\n      <td>0.154857</td>\n      <td>32</td>\n      <td>1</td>\n      <td>284</td>\n    </tr>\n    <tr>\n      <th>73</th>\n      <td>548235</td>\n      <td>0.403286</td>\n      <td>33</td>\n      <td>1</td>\n      <td>487</td>\n    </tr>\n    <tr>\n      <th>74</th>\n      <td>553893</td>\n      <td>1.000000</td>\n      <td>31</td>\n      <td>2</td>\n      <td>189</td>\n    </tr>\n    <tr>\n      <th>75</th>\n      <td>554774</td>\n      <td>0.528000</td>\n      <td>30</td>\n      <td>2</td>\n      <td>329</td>\n    </tr>\n    <tr>\n      <th>76</th>\n      <td>559972</td>\n      <td>0.225250</td>\n      <td>36</td>\n      <td>1</td>\n      <td>880</td>\n    </tr>\n    <tr>\n      <th>77</th>\n      <td>562325</td>\n      <td>0.359333</td>\n      <td>30</td>\n      <td>2</td>\n      <td>633</td>\n    </tr>\n    <tr>\n      <th>78</th>\n      <td>569505</td>\n      <td>0.023000</td>\n      <td>32</td>\n      <td>2</td>\n      <td>492</td>\n    </tr>\n    <tr>\n      <th>79</th>\n      <td>585024</td>\n      <td>0.558250</td>\n      <td>42</td>\n      <td>2</td>\n      <td>134</td>\n    </tr>\n    <tr>\n      <th>80</th>\n      <td>612539</td>\n      <td>0.208000</td>\n      <td>30</td>\n      <td>2</td>\n      <td>260</td>\n    </tr>\n    <tr>\n      <th>81</th>\n      <td>620860</td>\n      <td>0.322778</td>\n      <td>29</td>\n      <td>2</td>\n      <td>163</td>\n    </tr>\n    <tr>\n      <th>82</th>\n      <td>641922</td>\n      <td>0.974714</td>\n      <td>28</td>\n      <td>2</td>\n      <td>237</td>\n    </tr>\n    <tr>\n      <th>83</th>\n      <td>679253</td>\n      <td>0.126000</td>\n      <td>26</td>\n      <td>1</td>\n      <td>424</td>\n    </tr>\n    <tr>\n      <th>84</th>\n      <td>681730</td>\n      <td>0.467875</td>\n      <td>28</td>\n      <td>2</td>\n      <td>518</td>\n    </tr>\n    <tr>\n      <th>85</th>\n      <td>695699</td>\n      <td>0.264000</td>\n      <td>42</td>\n      <td>2</td>\n      <td>338</td>\n    </tr>\n    <tr>\n      <th>86</th>\n      <td>709939</td>\n      <td>0.193438</td>\n      <td>27</td>\n      <td>2</td>\n      <td>372</td>\n    </tr>\n    <tr>\n      <th>87</th>\n      <td>716272</td>\n      <td>0.847500</td>\n      <td>29</td>\n      <td>2</td>\n      <td>231</td>\n    </tr>\n    <tr>\n      <th>88</th>\n      <td>723306</td>\n      <td>0.931000</td>\n      <td>28</td>\n      <td>2</td>\n      <td>229</td>\n    </tr>\n    <tr>\n      <th>89</th>\n      <td>727886</td>\n      <td>0.444538</td>\n      <td>27</td>\n      <td>2</td>\n      <td>174</td>\n    </tr>\n    <tr>\n      <th>90</th>\n      <td>758378</td>\n      <td>0.451250</td>\n      <td>48</td>\n      <td>2</td>\n      <td>479</td>\n    </tr>\n    <tr>\n      <th>91</th>\n      <td>777285</td>\n      <td>0.054000</td>\n      <td>39</td>\n      <td>2</td>\n      <td>4</td>\n    </tr>\n    <tr>\n      <th>92</th>\n      <td>780569</td>\n      <td>0.403706</td>\n      <td>36</td>\n      <td>1</td>\n      <td>119</td>\n    </tr>\n    <tr>\n      <th>93</th>\n      <td>798405</td>\n      <td>0.272000</td>\n      <td>34</td>\n      <td>2</td>\n      <td>122</td>\n    </tr>\n    <tr>\n      <th>94</th>\n      <td>811911</td>\n      <td>0.156125</td>\n      <td>40</td>\n      <td>2</td>\n      <td>326</td>\n    </tr>\n    <tr>\n      <th>95</th>\n      <td>817569</td>\n      <td>0.076000</td>\n      <td>29</td>\n      <td>2</td>\n      <td>146</td>\n    </tr>\n    <tr>\n      <th>96</th>\n      <td>845817</td>\n      <td>0.087000</td>\n      <td>46</td>\n      <td>1</td>\n      <td>675</td>\n    </tr>\n    <tr>\n      <th>97</th>\n      <td>850905</td>\n      <td>0.554143</td>\n      <td>31</td>\n      <td>2</td>\n      <td>159</td>\n    </tr>\n    <tr>\n      <th>98</th>\n      <td>853382</td>\n      <td>0.384333</td>\n      <td>28</td>\n      <td>1</td>\n      <td>261</td>\n    </tr>\n    <tr>\n      <th>99</th>\n      <td>896354</td>\n      <td>0.000000</td>\n      <td>41</td>\n      <td>2</td>\n      <td>531</td>\n    </tr>\n  </tbody>\n</table>\n<p>100 rows Ã 5 columns</p>\n</div>"
      ],
      "text/plain": [
       "       Uid  Happiness  Age  Sex  numOfFriends\n0      549   0.516667   30    2           263\n1      905   0.654800   36    1          1195\n2     3450   0.430500   24    2           321\n3     4606   0.177750   48    2           445\n4     5638   0.034833   30    2          1179\n5     6589   0.082091   37    2           276\n6     8704   0.500500   29    2           615\n7    12873   0.406286   29    2           158\n8    13223   0.684500   29    1           834\n9    14492   0.459000   32    2           439\n10   15395   0.095000   29    2           269\n11   15416   0.108000   30    2           212\n12   17005   0.462000   30    2            36\n13   17787   0.438167   24    2          1047\n14   18181   0.247333   30    1          4366\n15   19903   0.443167   27    2           333\n16   21716   0.019500   36    2          1330\n17   34261   0.501000   31    2           443\n18   36330   0.335000   28    2          2661\n19   44722   0.147091   37    2          1036\n20   54229   0.482857   31    2           600\n21   57825   0.562625   29    2           769\n22   63802   0.369875   34    2           238\n23   65856   0.153000   27    2           416\n24   70626   0.493200   30    1           263\n25   71663   0.272250   27    1           392\n26   74022   0.310818   28    2           338\n27   77756   0.501333   29    2           534\n28   91727   0.000000   28    2           435\n29  100490   0.242800   42    2           456\n..     ...        ...  ...  ...           ...\n70  514146   0.104286   28    2           224\n71  523063   0.000000   34    2           115\n72  534110   0.154857   32    1           284\n73  548235   0.403286   33    1           487\n74  553893   1.000000   31    2           189\n75  554774   0.528000   30    2           329\n76  559972   0.225250   36    1           880\n77  562325   0.359333   30    2           633\n78  569505   0.023000   32    2           492\n79  585024   0.558250   42    2           134\n80  612539   0.208000   30    2           260\n81  620860   0.322778   29    2           163\n82  641922   0.974714   28    2           237\n83  679253   0.126000   26    1           424\n84  681730   0.467875   28    2           518\n85  695699   0.264000   42    2           338\n86  709939   0.193438   27    2           372\n87  716272   0.847500   29    2           231\n88  723306   0.931000   28    2           229\n89  727886   0.444538   27    2           174\n90  758378   0.451250   48    2           479\n91  777285   0.054000   39    2             4\n92  780569   0.403706   36    1           119\n93  798405   0.272000   34    2           122\n94  811911   0.156125   40    2           326\n95  817569   0.076000   29    2           146\n96  845817   0.087000   46    1           675\n97  850905   0.554143   31    2           159\n98  853382   0.384333   28    1           261\n99  896354   0.000000   41    2           531\n\n[100 rows x 5 columns]"
      ]
     },
     "execution_count": 3,
     "metadata": {},
     "output_type": "execute_result"
    }
   ],
   "source": [
    "frame1"
   ]
  },
  {
   "cell_type": "markdown",
   "metadata": {},
   "source": [
    "### оценка модели\n",
    "использовался алгоритм boosted decision tree из azure ml с дефолтными настройками.\n",
    "[эксперимент в azure ml studio](https://gallery.cortanaintelligence.com/Experiment/Experiment-created-on-27-05-2017)"
   ]
  },
  {
   "cell_type": "code",
   "execution_count": 4,
   "metadata": {
    "collapsed": false
   },
   "outputs": [],
   "source": [
    "ds2 = experiment.get_intermediate_dataset(\n",
    "    node_id='07a3910a-d499-4ff9-9e8e-00c5de438395-2221',\n",
    "    port_name='Results dataset',\n",
    "    data_type_id='GenericCSV'\n",
    ")\n",
    "frame2 = ds2.to_dataframe()"
   ]
  },
  {
   "cell_type": "code",
   "execution_count": 5,
   "metadata": {
    "collapsed": false
   },
   "outputs": [
    {
     "data": {
      "text/html": [
       "<div>\n<table border=\"1\" class=\"dataframe\">\n  <thead>\n    <tr style=\"text-align: right;\">\n      <th></th>\n      <th>Uid</th>\n      <th>Happiness</th>\n      <th>Age</th>\n      <th>Sex</th>\n      <th>numOfFriends</th>\n      <th>Scored Labels</th>\n    </tr>\n  </thead>\n  <tbody>\n    <tr>\n      <th>0</th>\n      <td>34261</td>\n      <td>0.501000</td>\n      <td>31</td>\n      <td>2</td>\n      <td>443</td>\n      <td>0.386016</td>\n    </tr>\n    <tr>\n      <th>1</th>\n      <td>229812</td>\n      <td>0.470000</td>\n      <td>29</td>\n      <td>1</td>\n      <td>78</td>\n      <td>0.475334</td>\n    </tr>\n    <tr>\n      <th>2</th>\n      <td>203284</td>\n      <td>0.512333</td>\n      <td>30</td>\n      <td>2</td>\n      <td>4422</td>\n      <td>0.290105</td>\n    </tr>\n    <tr>\n      <th>3</th>\n      <td>15395</td>\n      <td>0.095000</td>\n      <td>29</td>\n      <td>2</td>\n      <td>269</td>\n      <td>0.394165</td>\n    </tr>\n    <tr>\n      <th>4</th>\n      <td>463039</td>\n      <td>0.442250</td>\n      <td>30</td>\n      <td>2</td>\n      <td>559</td>\n      <td>0.427527</td>\n    </tr>\n    <tr>\n      <th>5</th>\n      <td>559972</td>\n      <td>0.225250</td>\n      <td>36</td>\n      <td>1</td>\n      <td>880</td>\n      <td>0.337092</td>\n    </tr>\n    <tr>\n      <th>6</th>\n      <td>709939</td>\n      <td>0.193438</td>\n      <td>27</td>\n      <td>2</td>\n      <td>372</td>\n      <td>0.252668</td>\n    </tr>\n    <tr>\n      <th>7</th>\n      <td>156197</td>\n      <td>0.476143</td>\n      <td>30</td>\n      <td>2</td>\n      <td>1836</td>\n      <td>0.401802</td>\n    </tr>\n    <tr>\n      <th>8</th>\n      <td>549</td>\n      <td>0.516667</td>\n      <td>30</td>\n      <td>2</td>\n      <td>263</td>\n      <td>0.255296</td>\n    </tr>\n    <tr>\n      <th>9</th>\n      <td>5638</td>\n      <td>0.034833</td>\n      <td>30</td>\n      <td>2</td>\n      <td>1179</td>\n      <td>0.251820</td>\n    </tr>\n    <tr>\n      <th>10</th>\n      <td>455089</td>\n      <td>0.515000</td>\n      <td>30</td>\n      <td>1</td>\n      <td>317</td>\n      <td>0.167624</td>\n    </tr>\n    <tr>\n      <th>11</th>\n      <td>18181</td>\n      <td>0.247333</td>\n      <td>30</td>\n      <td>1</td>\n      <td>4366</td>\n      <td>0.386090</td>\n    </tr>\n    <tr>\n      <th>12</th>\n      <td>394575</td>\n      <td>0.007000</td>\n      <td>33</td>\n      <td>2</td>\n      <td>198</td>\n      <td>0.374396</td>\n    </tr>\n    <tr>\n      <th>13</th>\n      <td>620860</td>\n      <td>0.322778</td>\n      <td>29</td>\n      <td>2</td>\n      <td>163</td>\n      <td>0.504463</td>\n    </tr>\n    <tr>\n      <th>14</th>\n      <td>91727</td>\n      <td>0.000000</td>\n      <td>28</td>\n      <td>2</td>\n      <td>435</td>\n      <td>0.381835</td>\n    </tr>\n    <tr>\n      <th>15</th>\n      <td>14492</td>\n      <td>0.459000</td>\n      <td>32</td>\n      <td>2</td>\n      <td>439</td>\n      <td>0.340036</td>\n    </tr>\n    <tr>\n      <th>16</th>\n      <td>21716</td>\n      <td>0.019500</td>\n      <td>36</td>\n      <td>2</td>\n      <td>1330</td>\n      <td>0.425573</td>\n    </tr>\n    <tr>\n      <th>17</th>\n      <td>65856</td>\n      <td>0.153000</td>\n      <td>27</td>\n      <td>2</td>\n      <td>416</td>\n      <td>0.339235</td>\n    </tr>\n    <tr>\n      <th>18</th>\n      <td>449046</td>\n      <td>0.574364</td>\n      <td>25</td>\n      <td>1</td>\n      <td>247</td>\n      <td>0.223972</td>\n    </tr>\n    <tr>\n      <th>19</th>\n      <td>226219</td>\n      <td>0.124000</td>\n      <td>33</td>\n      <td>2</td>\n      <td>367</td>\n      <td>0.425392</td>\n    </tr>\n    <tr>\n      <th>20</th>\n      <td>414250</td>\n      <td>0.003000</td>\n      <td>31</td>\n      <td>2</td>\n      <td>347</td>\n      <td>0.264887</td>\n    </tr>\n    <tr>\n      <th>21</th>\n      <td>17005</td>\n      <td>0.462000</td>\n      <td>30</td>\n      <td>2</td>\n      <td>36</td>\n      <td>0.195587</td>\n    </tr>\n    <tr>\n      <th>22</th>\n      <td>723306</td>\n      <td>0.931000</td>\n      <td>28</td>\n      <td>2</td>\n      <td>229</td>\n      <td>0.596115</td>\n    </tr>\n    <tr>\n      <th>23</th>\n      <td>853382</td>\n      <td>0.384333</td>\n      <td>28</td>\n      <td>1</td>\n      <td>261</td>\n      <td>0.249842</td>\n    </tr>\n    <tr>\n      <th>24</th>\n      <td>290071</td>\n      <td>0.484333</td>\n      <td>43</td>\n      <td>2</td>\n      <td>299</td>\n      <td>0.164939</td>\n    </tr>\n  </tbody>\n</table>\n</div>"
      ],
      "text/plain": [
       "       Uid  Happiness  Age  Sex  numOfFriends  Scored Labels\n0    34261   0.501000   31    2           443       0.386016\n1   229812   0.470000   29    1            78       0.475334\n2   203284   0.512333   30    2          4422       0.290105\n3    15395   0.095000   29    2           269       0.394165\n4   463039   0.442250   30    2           559       0.427527\n5   559972   0.225250   36    1           880       0.337092\n6   709939   0.193438   27    2           372       0.252668\n7   156197   0.476143   30    2          1836       0.401802\n8      549   0.516667   30    2           263       0.255296\n9     5638   0.034833   30    2          1179       0.251820\n10  455089   0.515000   30    1           317       0.167624\n11   18181   0.247333   30    1          4366       0.386090\n12  394575   0.007000   33    2           198       0.374396\n13  620860   0.322778   29    2           163       0.504463\n14   91727   0.000000   28    2           435       0.381835\n15   14492   0.459000   32    2           439       0.340036\n16   21716   0.019500   36    2          1330       0.425573\n17   65856   0.153000   27    2           416       0.339235\n18  449046   0.574364   25    1           247       0.223972\n19  226219   0.124000   33    2           367       0.425392\n20  414250   0.003000   31    2           347       0.264887\n21   17005   0.462000   30    2            36       0.195587\n22  723306   0.931000   28    2           229       0.596115\n23  853382   0.384333   28    1           261       0.249842\n24  290071   0.484333   43    2           299       0.164939"
      ]
     },
     "execution_count": 5,
     "metadata": {},
     "output_type": "execute_result"
    }
   ],
   "source": [
    "frame2"
   ]
  },
  {
   "cell_type": "code",
   "execution_count": 6,
   "metadata": {
    "collapsed": false
   },
   "outputs": [],
   "source": [
    "ds3 = experiment.get_intermediate_dataset(\n",
    "    node_id='07a3910a-d499-4ff9-9e8e-00c5de438395-1546',\n",
    "    port_name='Results dataset',\n",
    "    data_type_id='GenericCSV'\n",
    ")\n",
    "frame3 = ds3.to_dataframe()"
   ]
  },
  {
   "cell_type": "code",
   "execution_count": 7,
   "metadata": {
    "collapsed": false
   },
   "outputs": [
    {
     "data": {
      "text/html": [
       "<div>\n<table border=\"1\" class=\"dataframe\">\n  <thead>\n    <tr style=\"text-align: right;\">\n      <th></th>\n      <th>Mean Absolute Error</th>\n      <th>Root Mean Squared Error</th>\n      <th>Relative Absolute Error</th>\n      <th>Relative Squared Error</th>\n      <th>Coefficient of Determination</th>\n    </tr>\n  </thead>\n  <tbody>\n    <tr>\n      <th>0</th>\n      <td>0.219095</td>\n      <td>0.248367</td>\n      <td>1.100505</td>\n      <td>1.154583</td>\n      <td>-0.154583</td>\n    </tr>\n  </tbody>\n</table>\n</div>"
      ],
      "text/plain": [
       "   Mean Absolute Error  Root Mean Squared Error  Relative Absolute Error  \\\n0             0.219095                 0.248367                 1.100505   \n\n   Relative Squared Error  Coefficient of Determination  \n0                1.154583                     -0.154583  "
      ]
     },
     "execution_count": 7,
     "metadata": {},
     "output_type": "execute_result"
    }
   ],
   "source": [
    "frame3"
   ]
  }
 ],
 "metadata": {
  "language_info": {
   "name": "python",
   "codemirror_mode": {
    "name": "ipython",
    "version": 3.0
   },
   "version": "3.4.5",
   "pygments_lexer": "ipython3",
   "file_extension": ".py",
   "mimetype": "text/x-python",
   "nbconvert_exporter": "python"
  },
  "kernelspec": {
   "name": "python3",
   "language": "python",
   "display_name": "Python 3"
  }
 },
 "nbformat": 4,
 "nbformat_minor": 0
}